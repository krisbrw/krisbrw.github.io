{
 "cells": [
  {
   "cell_type": "code",
   "execution_count": null,
   "metadata": {},
   "outputs": [],
   "source": [
    "#################################\n",
    "# KRIS WE USE: \n",
    "# path = r'C:\\Users\\krisb\\Downloads' \n",
    "# FOREVER AND ALWAYS\n",
    "#################################"
   ]
  },
  {
   "cell_type": "code",
   "execution_count": null,
   "metadata": {},
   "outputs": [],
   "source": [
    "# List all files in a folder\n",
    "import os\n",
    "os.chdir('..')\n",
    "os.listdir()"
   ]
  },
  {
   "cell_type": "code",
   "execution_count": 14,
   "metadata": {},
   "outputs": [
    {
     "data": {
      "text/plain": [
       "'C:\\\\Users\\\\krisb\\\\Downloads'"
      ]
     },
     "execution_count": 14,
     "metadata": {},
     "output_type": "execute_result"
    }
   ],
   "source": [
    "# Go to downloads folder for any user\n",
    "import os\n",
    "import pathlib\n",
    "\n",
    "home = str(pathlib.Path.home())\n",
    "test = rf'{home}\\Downloads'"
   ]
  },
  {
   "cell_type": "code",
   "execution_count": 4,
   "metadata": {},
   "outputs": [
    {
     "name": "stdout",
     "output_type": "stream",
     "text": [
      "food_comma_seperated_list(2).txt\n"
     ]
    }
   ],
   "source": [
    "# show latest updated file in a folder\n",
    "import os \n",
    "import time\n",
    "\n",
    "path = r'C:\\Users\\krisb\\Downloads'\n",
    "list_of_files = os.listdir(path)\n",
    "\n",
    "latest_file = max(list_of_files, key=os.path.getctime)\n",
    "print(latest_file)"
   ]
  },
  {
   "cell_type": "code",
   "execution_count": 2,
   "metadata": {},
   "outputs": [
    {
     "data": {
      "text/plain": [
       "'c:\\\\Users\\\\krisb\\\\OneDrive\\\\Documents\\\\Python\\\\visualstudiocode\\\\File Management'"
      ]
     },
     "execution_count": 2,
     "metadata": {},
     "output_type": "execute_result"
    }
   ],
   "source": [
    "# change current working directory\n",
    "import os\n",
    "path = 'c:\\\\Users\\\\krisb\\\\OneDrive\\\\Documents\\\\Python\\\\visualstudiocode\\\\File Management'\n",
    "os.chdir(path)\n",
    "os.getcwd()"
   ]
  },
  {
   "cell_type": "code",
   "execution_count": 3,
   "metadata": {},
   "outputs": [],
   "source": [
    "# print all csv files in current working directory\n",
    "import os\n",
    "for file in os.listdir():\n",
    "    if file.endswith(\".csv\"):\n",
    "        print(file)"
   ]
  },
  {
   "cell_type": "code",
   "execution_count": 5,
   "metadata": {},
   "outputs": [
    {
     "name": "stdout",
     "output_type": "stream",
     "text": [
      "ctime (Local time): Mon Jan 20 19:50:58 2025\n"
     ]
    }
   ],
   "source": [
    "# Show the time a file was last updated\n",
    "import os \n",
    "import time \n",
    "  \n",
    "path = 'navigation.ipynb'\n",
    "\n",
    "c_time = os.path.getctime(path) \n",
    "local_time = time.ctime(c_time) \n",
    "print(\"ctime (Local time):\", local_time) "
   ]
  },
  {
   "cell_type": "code",
   "execution_count": 3,
   "metadata": {},
   "outputs": [
    {
     "name": "stdout",
     "output_type": "stream",
     "text": [
      "desktop.ini\n",
      "food_comma_seperated_list(2).txt\n",
      "food_comma_seperated_list.txt\n"
     ]
    }
   ],
   "source": [
    "# Show the file that was updated last in a folder\n",
    "import os \n",
    "import time \n",
    "  \n",
    "path = r'C:\\Users\\krisb\\Downloads'\n",
    "os.chdir(path)\n",
    "\n",
    "for file in os.listdir():\n",
    "    print(file)\n"
   ]
  }
 ],
 "metadata": {
  "kernelspec": {
   "display_name": "Python 3",
   "language": "python",
   "name": "python3"
  },
  "language_info": {
   "codemirror_mode": {
    "name": "ipython",
    "version": 3
   },
   "file_extension": ".py",
   "mimetype": "text/x-python",
   "name": "python",
   "nbconvert_exporter": "python",
   "pygments_lexer": "ipython3",
   "version": "3.10.2"
  }
 },
 "nbformat": 4,
 "nbformat_minor": 2
}
