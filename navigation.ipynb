{
 "cells": [
  {
   "cell_type": "code",
   "execution_count": 14,
   "metadata": {},
   "outputs": [
    {
     "name": "stdout",
     "output_type": "stream",
     "text": [
      "Your current working directory/folder is: c:\\Users\\krisb\\OneDrive\n"
     ]
    }
   ],
   "source": [
    "# find current working directory\n",
    "import os\n",
    "cwd = os.getcwd()\n",
    "print(\"Your current working directory/folder is:\",cwd)"
   ]
  },
  {
   "cell_type": "code",
   "execution_count": 10,
   "metadata": {},
   "outputs": [
    {
     "data": {
      "text/plain": [
       "'c:\\\\Users\\\\krisb\\\\OneDrive\\\\Documents\\\\Python'"
      ]
     },
     "execution_count": 10,
     "metadata": {},
     "output_type": "execute_result"
    }
   ],
   "source": [
    "# go out one folder to change current working directory\n",
    "import os\n",
    "os.chdir('..')\n",
    "os.getcwd()"
   ]
  },
  {
   "cell_type": "code",
   "execution_count": null,
   "metadata": {},
   "outputs": [],
   "source": [
    "# List all files in a folder\n",
    "os\n",
    "os.chdir('..')\n",
    "os.listdir()"
   ]
  },
  {
   "cell_type": "code",
   "execution_count": 17,
   "metadata": {},
   "outputs": [
    {
     "name": "stdout",
     "output_type": "stream",
     "text": [
      "Electric_Vehicle_Population_Data.csv\n",
      "Insta Stats'Traitors 2023-06-17 10-54-27.csv\n",
      "Insta Stats'Traitors 2023-06-17 10-54-44.csv\n",
      "player_names.csv\n",
      "scores.csv\n"
     ]
    }
   ],
   "source": [
    "# print all csv files in current working directory\n",
    "import os\n",
    "for file in os.listdir():\n",
    "    if file.endswith(\".csv\"):\n",
    "        print(file)"
   ]
  },
  {
   "cell_type": "code",
   "execution_count": 15,
   "metadata": {},
   "outputs": [
    {
     "data": {
      "text/plain": [
       "'c:\\\\Users\\\\krisb\\\\OneDrive\\\\Documents\\\\Python\\\\visualstudiocode\\\\Basics'"
      ]
     },
     "execution_count": 15,
     "metadata": {},
     "output_type": "execute_result"
    }
   ],
   "source": [
    "# change current working directory\n",
    "import os\n",
    "path = 'c:\\\\Users\\\\krisb\\\\OneDrive\\\\Documents\\\\Python\\\\visualstudiocode\\\\Basics'\n",
    "os.chdir(path)\n",
    "os.getcwd()"
   ]
  }
 ],
 "metadata": {
  "kernelspec": {
   "display_name": "Python 3",
   "language": "python",
   "name": "python3"
  },
  "language_info": {
   "codemirror_mode": {
    "name": "ipython",
    "version": 3
   },
   "file_extension": ".py",
   "mimetype": "text/x-python",
   "name": "python",
   "nbconvert_exporter": "python",
   "pygments_lexer": "ipython3",
   "version": "3.10.2"
  }
 },
 "nbformat": 4,
 "nbformat_minor": 2
}
