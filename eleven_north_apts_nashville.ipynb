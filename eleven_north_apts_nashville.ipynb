{
 "cells": [
  {
   "cell_type": "code",
   "execution_count": null,
   "metadata": {},
   "outputs": [],
   "source": [
    "from datetime import datetime\n",
    "import pandas as pd\n",
    "import numpy as np\n",
    "from selenium import webdriver\n",
    "from selenium.webdriver.chrome.options import Options\n",
    "from selenium.webdriver.common.by import By\n",
    "\n",
    "\n",
    "chrome_options = Options()\n",
    "chrome_options.add_argument(\"--no-sandbox\")  # Required for Docker\n",
    "chrome_options.add_argument(\"--disable-dev-shm-usage\")  # Prevents crashes due to limited shared memory\n",
    "chrome_options.add_argument(\"--headless\")  # Optional: Run in headless mode\n",
    "chrome_options.add_argument(\"--disable-gpu\")  # Disable GPU to avoid rendering issues\n",
    "chrome_options.add_argument(\"--disable-software-rasterizer\")  # Avoid GPU rendering fallback\n",
    "chrome_options.add_argument('--window-size=1920,1080')\n",
    "\n",
    "driver = webdriver.Chrome(options=chrome_options)\n",
    "driver.implicitly_wait(10.0)\n",
    "driver.get('https://elevennorth.com/floorplans/')\n",
    "\n",
    "loading = driver.find_element(By.CSS_SELECTOR, \"a.skylease__unit-list-item:nth-child(1) > div:nth-child(2) > div:nth-child(3) > p:nth-child(1)\")\n",
    "driver.execute_script(\"arguments[0].click();\", driver.find_element(By.CSS_SELECTOR, \"a.skylease__toolbar-floor-link:nth-child(1)\"))\n",
    "records1 = pd.DataFrame(driver.find_element(By.CSS_SELECTOR, \"#unit-list\").text.split(), columns=['record'])\n",
    "init_df1 = pd.DataFrame(np.array(records1['record']).reshape(-1,11))\n",
    "init_df1.columns = ['unit_number','beds','c','bath','e','sq_ft','g','h','i','j','starting_at']\n",
    "floor1 = init_df1.loc[:,('unit_number','beds','bath','sq_ft','starting_at')]\n",
    "floor1['property'] = driver.title\n",
    "\n",
    "driver.execute_script(\"arguments[0].click();\", driver.find_element(By.CSS_SELECTOR, \"a.skylease__toolbar-floor-link:nth-child(2)\"))\n",
    "records2 = pd.DataFrame(driver.find_element(By.CSS_SELECTOR, \"#unit-list\").text.split(), columns=['record'])\n",
    "init_df2 = pd.DataFrame(np.array(records2['record']).reshape(-1,11))\n",
    "init_df2.columns = ['unit_number','beds','c','bath','e','sq_ft','g','h','i','j','starting_at']\n",
    "floor2 = init_df2.loc[:,('unit_number','beds','bath','sq_ft','starting_at')]\n",
    "floor2['property'] = driver.title\n",
    "\n",
    "driver.execute_script(\"arguments[0].click();\", driver.find_element(By.CSS_SELECTOR, \"a.skylease__toolbar-floor-link:nth-child(3)\"))\n",
    "records3 = pd.DataFrame(driver.find_element(By.CSS_SELECTOR, \"#unit-list\").text.split(), columns=['record'])\n",
    "init_df3 = pd.DataFrame(np.array(records3['record']).reshape(-1,11))\n",
    "init_df3.columns = ['unit_number','beds','c','bath','e','sq_ft','g','h','i','j','starting_at']\n",
    "floor3 = init_df3.loc[:,('unit_number','beds','bath','sq_ft','starting_at')]\n",
    "floor3['property'] = driver.title\n",
    "\n",
    "driver.execute_script(\"arguments[0].click();\", driver.find_element(By.CSS_SELECTOR, \"a.skylease__toolbar-floor-link:nth-child(4)\"))\n",
    "records4 = pd.DataFrame(driver.find_element(By.CSS_SELECTOR, \"#unit-list\").text.split(), columns=['record'])\n",
    "init_df4 = pd.DataFrame(np.array(records4['record']).reshape(-1,11))\n",
    "init_df4.columns = ['unit_number','beds','c','bath','e','sq_ft','g','h','i','j','starting_at']\n",
    "floor4 = init_df4.loc[:,('unit_number','beds','bath','sq_ft','starting_at')]\n",
    "floor4['property'] = driver.title\n",
    "\n",
    "result = pd.concat([floor1,floor2,floor3,floor4])\n",
    "# driver.quit()\n",
    "now = datetime.now()\n",
    "date_time = now.strftime(\"%m-%d-%Y_%H-%M-%S\")\n",
    "result['pulled_at'] = date_time\n",
    "result.to_csv(f'output_{date_time}.csv', index=False)"
   ]
  }
 ],
 "metadata": {
  "kernelspec": {
   "display_name": "Python 3",
   "language": "python",
   "name": "python3"
  },
  "language_info": {
   "codemirror_mode": {
    "name": "ipython",
    "version": 3
   },
   "file_extension": ".py",
   "mimetype": "text/x-python",
   "name": "python",
   "nbconvert_exporter": "python",
   "pygments_lexer": "ipython3",
   "version": "3.13.1"
  }
 },
 "nbformat": 4,
 "nbformat_minor": 2
}
