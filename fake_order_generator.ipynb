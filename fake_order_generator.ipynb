{
 "cells": [
  {
   "cell_type": "code",
   "execution_count": 1,
   "metadata": {},
   "outputs": [],
   "source": [
    "# Create a dataframe with randomly generate values\n",
    "# Either random or current timestamp also\n",
    "# Generate a systematic directory based on timestamp data\n",
    "\n",
    "# order number, name, address, online (0/1), inventory number, barcode number, time of order"
   ]
  },
  {
   "cell_type": "code",
   "execution_count": 1,
   "metadata": {},
   "outputs": [],
   "source": [
    "import os\n",
    "import numpy as np\n",
    "import pandas as pd\n",
    "from faker import Faker\n",
    "from random import randrange\n",
    "import datetime"
   ]
  },
  {
   "cell_type": "code",
   "execution_count": 113,
   "metadata": {},
   "outputs": [],
   "source": [
    "fake = Faker()\n",
    "##############################\n",
    "## Number of rows in output ##\n",
    "num_of_records = 10000\n",
    "##############################\n",
    "##############################\n",
    "\n",
    "onum = []\n",
    "cname= []\n",
    "cstreet = []\n",
    "ccity = []\n",
    "cstate = []\n",
    "czip = []\n",
    "ccountry = []\n",
    "onl = []\n",
    "mob = []\n",
    "tstamp = []\n",
    "ptotal = []\n",
    "\n",
    "for a in range(num_of_records):\n",
    "  onum.append(str(np.random.choice(range(9000000, 10000000), size=1, replace=False)).lstrip('[').rstrip(']'))\n",
    "\n",
    "for b in range(num_of_records):\n",
    "  cname.append(fake.name())\n",
    "\n",
    "for c in range(num_of_records):\n",
    "  cstreet.append(str(fake.street_address()).replace(f'\\n',' '))\n",
    "\n",
    "for d in range(num_of_records):\n",
    "  ccity.append(str(fake.city()).replace(f'\\n',' '))\n",
    "\n",
    "for e in range(num_of_records):\n",
    "  cstate.append(str(fake.state()).replace(f'\\n',' '))\n",
    "\n",
    "for f in range(num_of_records):\n",
    "  czip.append(str(fake.postcode()).replace(f'\\n',' '))\n",
    "\n",
    "for g in range(num_of_records):\n",
    "  ccountry.append(str(fake.current_country_code()).replace(f'\\n',' '))\n",
    "\n",
    "for h in range(num_of_records):\n",
    "  onl.append(str(np.random.randint(2, size=1)).lstrip('[').rstrip(']'))\n",
    "\n",
    "for i in range(num_of_records):\n",
    "  mob.append(str(np.random.randint(2, size=1)).lstrip('[').rstrip(']'))\n",
    "\n",
    "startDate = datetime.datetime(2023,1,1,0,00)\n",
    "def random_date(start,l):\n",
    "   current = start\n",
    "   while l >= 0:\n",
    "      curr = current + datetime.timedelta(minutes=randrange(1051200))\n",
    "      yield curr\n",
    "      l-=1\n",
    "\n",
    "for j in random_date(startDate,num_of_records-1):\n",
    "  tstamp.append(j.strftime(\"%m/%d/%Y %H:%M\"))\n",
    "\n",
    "for k in range(num_of_records):\n",
    "  ptotal.append(np.around(np.random.uniform(0.50,3000),2))\n",
    "\n",
    "order_records = pd.DataFrame({'order_number':onum,'customer_name':cname,'customer_street_address':cstreet,'customer_city_address':ccity,'customer_state_address':cstate,'customer_zip_address':czip,'customer_country_address':ccountry,'online_order':onl,'mobile_order':mob,'order_timestamp':tstamp,'purchase_total':ptotal})\n",
    "\n",
    "order_records.to_csv('order_records.csv', index=False)"
   ]
  }
 ],
 "metadata": {
  "kernelspec": {
   "display_name": "Python 3",
   "language": "python",
   "name": "python3"
  },
  "language_info": {
   "codemirror_mode": {
    "name": "ipython",
    "version": 3
   },
   "file_extension": ".py",
   "mimetype": "text/x-python",
   "name": "python",
   "nbconvert_exporter": "python",
   "pygments_lexer": "ipython3",
   "version": "3.10.1"
  }
 },
 "nbformat": 4,
 "nbformat_minor": 2
}
